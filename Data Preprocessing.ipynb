{
 "cells": [
  {
   "cell_type": "markdown",
   "metadata": {},
   "source": [
    "### Imports for data preprocessing"
   ]
  },
  {
   "cell_type": "code",
   "execution_count": 1,
   "metadata": {},
   "outputs": [],
   "source": [
    "import pandas as pd\n",
    "import numpy as np\n",
    "from pandas.plotting import scatter_matrix\n",
    "import matplotlib.pyplot as plt\n",
    "from sklearn import datasets\n",
    "from sklearn import model_selection\n",
    "from sklearn.preprocessing import LabelEncoder\n",
    "from sklearn.impute import SimpleImputer"
   ]
  },
  {
   "cell_type": "markdown",
   "metadata": {},
   "source": [
    "### Creating empty DataFrame"
   ]
  },
  {
   "cell_type": "code",
   "execution_count": null,
   "metadata": {},
   "outputs": [],
   "source": [
    "df_empty=pd.DataFrame()"
   ]
  },
  {
   "cell_type": "markdown",
   "metadata": {},
   "source": [
    "### Loading data set"
   ]
  },
  {
   "cell_type": "code",
   "execution_count": 26,
   "metadata": {},
   "outputs": [
    {
     "data": {
      "text/html": [
       "<div>\n",
       "<style scoped>\n",
       "    .dataframe tbody tr th:only-of-type {\n",
       "        vertical-align: middle;\n",
       "    }\n",
       "\n",
       "    .dataframe tbody tr th {\n",
       "        vertical-align: top;\n",
       "    }\n",
       "\n",
       "    .dataframe thead th {\n",
       "        text-align: right;\n",
       "    }\n",
       "</style>\n",
       "<table border=\"1\" class=\"dataframe\">\n",
       "  <thead>\n",
       "    <tr style=\"text-align: right;\">\n",
       "      <th></th>\n",
       "      <th>sepal_length</th>\n",
       "      <th>sepal_width</th>\n",
       "      <th>petal_length</th>\n",
       "      <th>petal_width</th>\n",
       "      <th>class</th>\n",
       "    </tr>\n",
       "  </thead>\n",
       "  <tbody>\n",
       "    <tr>\n",
       "      <th>0</th>\n",
       "      <td>5.1</td>\n",
       "      <td>3.5</td>\n",
       "      <td>1.4</td>\n",
       "      <td>0.2</td>\n",
       "      <td>Iris-setosa</td>\n",
       "    </tr>\n",
       "    <tr>\n",
       "      <th>1</th>\n",
       "      <td>4.9</td>\n",
       "      <td>3.0</td>\n",
       "      <td>1.4</td>\n",
       "      <td>0.2</td>\n",
       "      <td>Iris-setosa</td>\n",
       "    </tr>\n",
       "  </tbody>\n",
       "</table>\n",
       "</div>"
      ],
      "text/plain": [
       "   sepal_length  sepal_width  petal_length  petal_width        class\n",
       "0           5.1          3.5           1.4          0.2  Iris-setosa\n",
       "1           4.9          3.0           1.4          0.2  Iris-setosa"
      ]
     },
     "execution_count": 26,
     "metadata": {},
     "output_type": "execute_result"
    }
   ],
   "source": [
    "url = \"iris.csv\"\n",
    "names = ['sepal_length', 'sepal_width', 'petal_length', 'petal_width', 'class']\n",
    "df = pd.read_csv(url, names=names,header=None)\n",
    "df.head(2)"
   ]
  },
  {
   "cell_type": "code",
   "execution_count": 54,
   "metadata": {},
   "outputs": [],
   "source": [
    "def understand_data(df):\n",
    "    print('No of observations: '+ str(df.shape[0]))\n",
    "    print('No of columns: '+ str(df.shape[1]))\n",
    "    print('------------------------------------------------------------------------------------')\n",
    "    print('******** Describe ********* : ')\n",
    "    df_des=df.describe()\n",
    "    df_des=pd.DataFrame(df_des)\n",
    "    print(df_des)\n",
    "    print('------------------------------------------------------------------------------------')\n",
    "    print('******** Column data types ******** : ')\n",
    "    columns=df.columns\n",
    "    for col in columns:\n",
    "        print('Data type of  '+ str(col) +'  ' + 'is ' + str(df[col].dtypes))\n",
    "        if df[col].dtypes=='object':\n",
    "            print('---> ' + col + ' is a categorical variable. Hence observe value_counts()')\n",
    "            print(df[col].value_counts())\n",
    "            print('-------------')\n",
    "    print('------------------------------------------------------------------------------------')\n",
    "    print('******** Null values in columns ******** : ')\n",
    "    null_df=pd.isnull(df).any()\n",
    "    names=['Column Names','Yes/No']\n",
    "    null_df=pd.DataFrame(null_df)\n",
    "    null_df.reset_index(inplace=True)\n",
    "    null_df.columns=names\n",
    "    print(null_df)\n",
    "    print('------------------------------------------------------------------------------------')\n",
    "    print('******** Duplicates in columns ******** : ')\n",
    "    for col in columns:\n",
    "        duplicateRowsDF = df[df.duplicated()][col]\n",
    "        print(\"Duplicate Rows except first occurrence :\")\n",
    "        print(duplicateRowsDF)\n",
    "    print('------------------------------------------------------------------------------------')\n",
    "    print('******** Head view ******** : ')\n",
    "    print(df.head(3))\n",
    "    print('------------------------------------------------------------------------------------')\n",
    "    print('******** Tail view ******** : ')\n",
    "    print(df.tail(3))\n",
    "    print('------------------------------------------------------------------------------------')"
   ]
  },
  {
   "cell_type": "code",
   "execution_count": 55,
   "metadata": {},
   "outputs": [
    {
     "name": "stdout",
     "output_type": "stream",
     "text": [
      "No of observations: 150\n",
      "No of columns: 5\n",
      "------------------------------------------------------------------------------------\n",
      "******** Describe ********* : \n",
      "       sepal_length  sepal_width  petal_length  petal_width\n",
      "count    150.000000   150.000000    150.000000   150.000000\n",
      "mean       5.843333     3.054000      3.758667     1.198667\n",
      "std        0.828066     0.433594      1.764420     0.763161\n",
      "min        4.300000     2.000000      1.000000     0.100000\n",
      "25%        5.100000     2.800000      1.600000     0.300000\n",
      "50%        5.800000     3.000000      4.350000     1.300000\n",
      "75%        6.400000     3.300000      5.100000     1.800000\n",
      "max        7.900000     4.400000      6.900000     2.500000\n",
      "------------------------------------------------------------------------------------\n",
      "******** Column data types ******** : \n",
      "Data type of  sepal_length  is float64\n",
      "Data type of  sepal_width  is float64\n",
      "Data type of  petal_length  is float64\n",
      "Data type of  petal_width  is float64\n",
      "Data type of  class  is object\n",
      "---> class is a categorical variable. Hence observe value_counts()\n",
      "Iris-virginica     50\n",
      "Iris-setosa        50\n",
      "Iris-versicolor    50\n",
      "Name: class, dtype: int64\n",
      "-------------\n",
      "------------------------------------------------------------------------------------\n",
      "******** Null values in columns ******** : \n",
      "   Column Names  Yes/No\n",
      "0  sepal_length   False\n",
      "1   sepal_width   False\n",
      "2  petal_length   False\n",
      "3   petal_width   False\n",
      "4         class   False\n",
      "------------------------------------------------------------------------------------\n",
      "******** Duplicates in columns ******** : \n",
      "Duplicate Rows except first occurrence :\n",
      "34     4.9\n",
      "37     4.9\n",
      "142    5.8\n",
      "Name: sepal_length, dtype: float64\n",
      "Duplicate Rows except first occurrence :\n",
      "34     3.1\n",
      "37     3.1\n",
      "142    2.7\n",
      "Name: sepal_width, dtype: float64\n",
      "Duplicate Rows except first occurrence :\n",
      "34     1.5\n",
      "37     1.5\n",
      "142    5.1\n",
      "Name: petal_length, dtype: float64\n",
      "Duplicate Rows except first occurrence :\n",
      "34     0.1\n",
      "37     0.1\n",
      "142    1.9\n",
      "Name: petal_width, dtype: float64\n",
      "Duplicate Rows except first occurrence :\n",
      "34        Iris-setosa\n",
      "37        Iris-setosa\n",
      "142    Iris-virginica\n",
      "Name: class, dtype: object\n",
      "------------------------------------------------------------------------------------\n",
      "******** Head view ******** : \n",
      "   sepal_length  sepal_width  petal_length  petal_width        class\n",
      "0           5.1          3.5           1.4          0.2  Iris-setosa\n",
      "1           4.9          3.0           1.4          0.2  Iris-setosa\n",
      "2           4.7          3.2           1.3          0.2  Iris-setosa\n",
      "------------------------------------------------------------------------------------\n",
      "******** Tail view ******** : \n",
      "     sepal_length  sepal_width  petal_length  petal_width           class\n",
      "147           6.5          3.0           5.2          2.0  Iris-virginica\n",
      "148           6.2          3.4           5.4          2.3  Iris-virginica\n",
      "149           5.9          3.0           5.1          1.8  Iris-virginica\n",
      "------------------------------------------------------------------------------------\n"
     ]
    }
   ],
   "source": [
    "understand_data(df)"
   ]
  },
  {
   "cell_type": "markdown",
   "metadata": {},
   "source": [
    "### Knowing data"
   ]
  },
  {
   "cell_type": "code",
   "execution_count": 3,
   "metadata": {},
   "outputs": [
    {
     "name": "stdout",
     "output_type": "stream",
     "text": [
      "<class 'pandas.core.frame.DataFrame'>\n",
      "RangeIndex: 150 entries, 0 to 149\n",
      "Data columns (total 5 columns):\n",
      "sepal_length    150 non-null float64\n",
      "sepal_width     150 non-null float64\n",
      "petal_length    150 non-null float64\n",
      "petal_width     150 non-null float64\n",
      "class           150 non-null object\n",
      "dtypes: float64(4), object(1)\n",
      "memory usage: 5.9+ KB\n",
      "None\n",
      "       sepal_length  sepal_width  petal_length  petal_width\n",
      "count    150.000000   150.000000    150.000000   150.000000\n",
      "mean       5.843333     3.054000      3.758667     1.198667\n",
      "std        0.828066     0.433594      1.764420     0.763161\n",
      "min        4.300000     2.000000      1.000000     0.100000\n",
      "25%        5.100000     2.800000      1.600000     0.300000\n",
      "50%        5.800000     3.000000      4.350000     1.300000\n",
      "75%        6.400000     3.300000      5.100000     1.800000\n",
      "max        7.900000     4.400000      6.900000     2.500000\n",
      "   sepal_length  sepal_width  petal_length  petal_width        class\n",
      "0           5.1          3.5           1.4          0.2  Iris-setosa\n",
      "1           4.9          3.0           1.4          0.2  Iris-setosa\n",
      "     sepal_length  sepal_width  petal_length  petal_width           class\n",
      "148           6.2          3.4           5.4          2.3  Iris-virginica\n",
      "149           5.9          3.0           5.1          1.8  Iris-virginica\n"
     ]
    }
   ],
   "source": [
    "print(df.info())\n",
    "print(df.describe())\n",
    "print(df.head(2))\n",
    "print(df.tail(2))"
   ]
  },
  {
   "cell_type": "markdown",
   "metadata": {},
   "source": [
    "### Making one of the clm as Index"
   ]
  },
  {
   "cell_type": "code",
   "execution_count": null,
   "metadata": {},
   "outputs": [],
   "source": [
    "#df.set_index('clm name to be made as index')"
   ]
  },
  {
   "cell_type": "markdown",
   "metadata": {},
   "source": [
    "### Making Index as one of the clm in df"
   ]
  },
  {
   "cell_type": "code",
   "execution_count": null,
   "metadata": {},
   "outputs": [],
   "source": [
    "#df.reset_index(inplace=True)"
   ]
  },
  {
   "cell_type": "markdown",
   "metadata": {},
   "source": [
    "### Indexing and selection"
   ]
  },
  {
   "cell_type": "code",
   "execution_count": 5,
   "metadata": {},
   "outputs": [
    {
     "data": {
      "text/html": [
       "<div>\n",
       "<style scoped>\n",
       "    .dataframe tbody tr th:only-of-type {\n",
       "        vertical-align: middle;\n",
       "    }\n",
       "\n",
       "    .dataframe tbody tr th {\n",
       "        vertical-align: top;\n",
       "    }\n",
       "\n",
       "    .dataframe thead th {\n",
       "        text-align: right;\n",
       "    }\n",
       "</style>\n",
       "<table border=\"1\" class=\"dataframe\">\n",
       "  <thead>\n",
       "    <tr style=\"text-align: right;\">\n",
       "      <th></th>\n",
       "      <th>sepal_length</th>\n",
       "      <th>sepal_width</th>\n",
       "    </tr>\n",
       "  </thead>\n",
       "  <tbody>\n",
       "    <tr>\n",
       "      <th>0</th>\n",
       "      <td>5.1</td>\n",
       "      <td>3.5</td>\n",
       "    </tr>\n",
       "    <tr>\n",
       "      <th>1</th>\n",
       "      <td>4.9</td>\n",
       "      <td>3.0</td>\n",
       "    </tr>\n",
       "    <tr>\n",
       "      <th>2</th>\n",
       "      <td>4.7</td>\n",
       "      <td>3.2</td>\n",
       "    </tr>\n",
       "    <tr>\n",
       "      <th>3</th>\n",
       "      <td>4.6</td>\n",
       "      <td>3.1</td>\n",
       "    </tr>\n",
       "    <tr>\n",
       "      <th>4</th>\n",
       "      <td>5.0</td>\n",
       "      <td>3.6</td>\n",
       "    </tr>\n",
       "    <tr>\n",
       "      <th>5</th>\n",
       "      <td>5.4</td>\n",
       "      <td>3.9</td>\n",
       "    </tr>\n",
       "  </tbody>\n",
       "</table>\n",
       "</div>"
      ],
      "text/plain": [
       "   sepal_length  sepal_width\n",
       "0           5.1          3.5\n",
       "1           4.9          3.0\n",
       "2           4.7          3.2\n",
       "3           4.6          3.1\n",
       "4           5.0          3.6\n",
       "5           5.4          3.9"
      ]
     },
     "execution_count": 5,
     "metadata": {},
     "output_type": "execute_result"
    }
   ],
   "source": [
    "df['sepal_length'].head()\n",
    "df[['sepal_length','sepal_width']].head()\n",
    "df.iloc[0:6]\n",
    "df.loc[0:6,'sepal_length']\n",
    "df.loc[[0,1,2],['sepal_length','sepal_width']]\n",
    "df.iloc[0:6,0:2]  #Slicing"
   ]
  },
  {
   "cell_type": "markdown",
   "metadata": {},
   "source": [
    "### Conditional selection"
   ]
  },
  {
   "cell_type": "code",
   "execution_count": 6,
   "metadata": {},
   "outputs": [
    {
     "data": {
      "text/html": [
       "<div>\n",
       "<style scoped>\n",
       "    .dataframe tbody tr th:only-of-type {\n",
       "        vertical-align: middle;\n",
       "    }\n",
       "\n",
       "    .dataframe tbody tr th {\n",
       "        vertical-align: top;\n",
       "    }\n",
       "\n",
       "    .dataframe thead th {\n",
       "        text-align: right;\n",
       "    }\n",
       "</style>\n",
       "<table border=\"1\" class=\"dataframe\">\n",
       "  <thead>\n",
       "    <tr style=\"text-align: right;\">\n",
       "      <th></th>\n",
       "      <th>sepal_length</th>\n",
       "      <th>sepal_width</th>\n",
       "      <th>petal_length</th>\n",
       "      <th>petal_width</th>\n",
       "      <th>class</th>\n",
       "    </tr>\n",
       "  </thead>\n",
       "  <tbody>\n",
       "    <tr>\n",
       "      <th>0</th>\n",
       "      <td>5.1</td>\n",
       "      <td>3.5</td>\n",
       "      <td>1.4</td>\n",
       "      <td>0.2</td>\n",
       "      <td>Iris-setosa</td>\n",
       "    </tr>\n",
       "    <tr>\n",
       "      <th>5</th>\n",
       "      <td>5.4</td>\n",
       "      <td>3.9</td>\n",
       "      <td>1.7</td>\n",
       "      <td>0.4</td>\n",
       "      <td>Iris-setosa</td>\n",
       "    </tr>\n",
       "    <tr>\n",
       "      <th>10</th>\n",
       "      <td>5.4</td>\n",
       "      <td>3.7</td>\n",
       "      <td>1.5</td>\n",
       "      <td>0.2</td>\n",
       "      <td>Iris-setosa</td>\n",
       "    </tr>\n",
       "    <tr>\n",
       "      <th>14</th>\n",
       "      <td>5.8</td>\n",
       "      <td>4.0</td>\n",
       "      <td>1.2</td>\n",
       "      <td>0.2</td>\n",
       "      <td>Iris-setosa</td>\n",
       "    </tr>\n",
       "    <tr>\n",
       "      <th>15</th>\n",
       "      <td>5.7</td>\n",
       "      <td>4.4</td>\n",
       "      <td>1.5</td>\n",
       "      <td>0.4</td>\n",
       "      <td>Iris-setosa</td>\n",
       "    </tr>\n",
       "  </tbody>\n",
       "</table>\n",
       "</div>"
      ],
      "text/plain": [
       "    sepal_length  sepal_width  petal_length  petal_width        class\n",
       "0            5.1          3.5           1.4          0.2  Iris-setosa\n",
       "5            5.4          3.9           1.7          0.4  Iris-setosa\n",
       "10           5.4          3.7           1.5          0.2  Iris-setosa\n",
       "14           5.8          4.0           1.2          0.2  Iris-setosa\n",
       "15           5.7          4.4           1.5          0.4  Iris-setosa"
      ]
     },
     "execution_count": 6,
     "metadata": {},
     "output_type": "execute_result"
    }
   ],
   "source": [
    "df[df['sepal_length']>5]     #all clms and selected rows whose sepal_length > 5\n",
    "df[(df['sepal_length']>5) & (df['sepal_width'] < 5)].head()   # | for OR condition"
   ]
  },
  {
   "cell_type": "markdown",
   "metadata": {},
   "source": [
    "### Adding new columns to a dataframe based on conditions"
   ]
  },
  {
   "cell_type": "code",
   "execution_count": 7,
   "metadata": {},
   "outputs": [
    {
     "data": {
      "text/html": [
       "<div>\n",
       "<style scoped>\n",
       "    .dataframe tbody tr th:only-of-type {\n",
       "        vertical-align: middle;\n",
       "    }\n",
       "\n",
       "    .dataframe tbody tr th {\n",
       "        vertical-align: top;\n",
       "    }\n",
       "\n",
       "    .dataframe thead th {\n",
       "        text-align: right;\n",
       "    }\n",
       "</style>\n",
       "<table border=\"1\" class=\"dataframe\">\n",
       "  <thead>\n",
       "    <tr style=\"text-align: right;\">\n",
       "      <th></th>\n",
       "      <th>sepal_length</th>\n",
       "      <th>sepal_width</th>\n",
       "      <th>petal_length</th>\n",
       "      <th>petal_width</th>\n",
       "      <th>class</th>\n",
       "      <th>New column Name</th>\n",
       "      <th>sepal_length * sepal_width</th>\n",
       "      <th>5.1 to 0 to be dropped</th>\n",
       "      <th>5.1 to 0 in sepal_length</th>\n",
       "    </tr>\n",
       "  </thead>\n",
       "  <tbody>\n",
       "    <tr>\n",
       "      <th>0</th>\n",
       "      <td>5.1</td>\n",
       "      <td>3.5</td>\n",
       "      <td>1.4</td>\n",
       "      <td>0.2</td>\n",
       "      <td>Iris-setosa</td>\n",
       "      <td>sepal_length is greater than 5</td>\n",
       "      <td>17.85</td>\n",
       "      <td>0.0</td>\n",
       "      <td>0.0</td>\n",
       "    </tr>\n",
       "    <tr>\n",
       "      <th>1</th>\n",
       "      <td>4.9</td>\n",
       "      <td>3.0</td>\n",
       "      <td>1.4</td>\n",
       "      <td>0.2</td>\n",
       "      <td>Iris-setosa</td>\n",
       "      <td>sepal_length is less than 5</td>\n",
       "      <td>14.70</td>\n",
       "      <td>NaN</td>\n",
       "      <td>NaN</td>\n",
       "    </tr>\n",
       "    <tr>\n",
       "      <th>2</th>\n",
       "      <td>4.7</td>\n",
       "      <td>3.2</td>\n",
       "      <td>1.3</td>\n",
       "      <td>0.2</td>\n",
       "      <td>Iris-setosa</td>\n",
       "      <td>sepal_length is less than 5</td>\n",
       "      <td>15.04</td>\n",
       "      <td>NaN</td>\n",
       "      <td>NaN</td>\n",
       "    </tr>\n",
       "    <tr>\n",
       "      <th>3</th>\n",
       "      <td>4.6</td>\n",
       "      <td>3.1</td>\n",
       "      <td>1.5</td>\n",
       "      <td>0.2</td>\n",
       "      <td>Iris-setosa</td>\n",
       "      <td>sepal_length is less than 5</td>\n",
       "      <td>14.26</td>\n",
       "      <td>NaN</td>\n",
       "      <td>NaN</td>\n",
       "    </tr>\n",
       "    <tr>\n",
       "      <th>4</th>\n",
       "      <td>5.0</td>\n",
       "      <td>3.6</td>\n",
       "      <td>1.4</td>\n",
       "      <td>0.2</td>\n",
       "      <td>Iris-setosa</td>\n",
       "      <td>sepal_length is less than 5</td>\n",
       "      <td>18.00</td>\n",
       "      <td>NaN</td>\n",
       "      <td>NaN</td>\n",
       "    </tr>\n",
       "  </tbody>\n",
       "</table>\n",
       "</div>"
      ],
      "text/plain": [
       "   sepal_length  sepal_width  petal_length  petal_width        class  \\\n",
       "0           5.1          3.5           1.4          0.2  Iris-setosa   \n",
       "1           4.9          3.0           1.4          0.2  Iris-setosa   \n",
       "2           4.7          3.2           1.3          0.2  Iris-setosa   \n",
       "3           4.6          3.1           1.5          0.2  Iris-setosa   \n",
       "4           5.0          3.6           1.4          0.2  Iris-setosa   \n",
       "\n",
       "                  New column Name  sepal_length * sepal_width  \\\n",
       "0  sepal_length is greater than 5                       17.85   \n",
       "1     sepal_length is less than 5                       14.70   \n",
       "2     sepal_length is less than 5                       15.04   \n",
       "3     sepal_length is less than 5                       14.26   \n",
       "4     sepal_length is less than 5                       18.00   \n",
       "\n",
       "   5.1 to 0 to be dropped  5.1 to 0 in sepal_length  \n",
       "0                     0.0                       0.0  \n",
       "1                     NaN                       NaN  \n",
       "2                     NaN                       NaN  \n",
       "3                     NaN                       NaN  \n",
       "4                     NaN                       NaN  "
      ]
     },
     "execution_count": 7,
     "metadata": {},
     "output_type": "execute_result"
    }
   ],
   "source": [
    "df['New column Name']= df['sepal_length'].apply(lambda x: 'sepal_length is greater than 5' if x>5 else 'sepal_length is less than 5')\n",
    "#df['New column Name'] = np.where(df['sepal_length']>5 ,df['New column Name']= df['sepal_length'].apply(lambda x: 'sepal_length is greater than 5' if x>5 else 'sepal_length is less than 5'), 'sepal_length is less than 5')\n",
    "df['sepal_length * sepal_width'] = df['sepal_length'] * df['sepal_width']\n",
    "df.loc[df.sepal_length == 5.1,\"5.1 to 0 to be dropped\"] = 0\n",
    "df.loc[df.sepal_length == 5.1,\"5.1 to 0 in sepal_length\"] = 0\n",
    "df.head()"
   ]
  },
  {
   "cell_type": "markdown",
   "metadata": {},
   "source": [
    "### Dropping rows and colunms in a dataframe"
   ]
  },
  {
   "cell_type": "code",
   "execution_count": 8,
   "metadata": {},
   "outputs": [
    {
     "data": {
      "text/html": [
       "<div>\n",
       "<style scoped>\n",
       "    .dataframe tbody tr th:only-of-type {\n",
       "        vertical-align: middle;\n",
       "    }\n",
       "\n",
       "    .dataframe tbody tr th {\n",
       "        vertical-align: top;\n",
       "    }\n",
       "\n",
       "    .dataframe thead th {\n",
       "        text-align: right;\n",
       "    }\n",
       "</style>\n",
       "<table border=\"1\" class=\"dataframe\">\n",
       "  <thead>\n",
       "    <tr style=\"text-align: right;\">\n",
       "      <th></th>\n",
       "      <th>sepal_length</th>\n",
       "      <th>sepal_width</th>\n",
       "      <th>petal_length</th>\n",
       "      <th>petal_width</th>\n",
       "      <th>class</th>\n",
       "      <th>New column Name</th>\n",
       "      <th>sepal_length * sepal_width</th>\n",
       "      <th>5.1 to 0 in sepal_length</th>\n",
       "    </tr>\n",
       "  </thead>\n",
       "  <tbody>\n",
       "    <tr>\n",
       "      <th>0</th>\n",
       "      <td>5.1</td>\n",
       "      <td>3.5</td>\n",
       "      <td>1.4</td>\n",
       "      <td>0.2</td>\n",
       "      <td>Iris-setosa</td>\n",
       "      <td>sepal_length is greater than 5</td>\n",
       "      <td>17.85</td>\n",
       "      <td>0.0</td>\n",
       "    </tr>\n",
       "    <tr>\n",
       "      <th>2</th>\n",
       "      <td>4.7</td>\n",
       "      <td>3.2</td>\n",
       "      <td>1.3</td>\n",
       "      <td>0.2</td>\n",
       "      <td>Iris-setosa</td>\n",
       "      <td>sepal_length is less than 5</td>\n",
       "      <td>15.04</td>\n",
       "      <td>NaN</td>\n",
       "    </tr>\n",
       "    <tr>\n",
       "      <th>3</th>\n",
       "      <td>4.6</td>\n",
       "      <td>3.1</td>\n",
       "      <td>1.5</td>\n",
       "      <td>0.2</td>\n",
       "      <td>Iris-setosa</td>\n",
       "      <td>sepal_length is less than 5</td>\n",
       "      <td>14.26</td>\n",
       "      <td>NaN</td>\n",
       "    </tr>\n",
       "    <tr>\n",
       "      <th>4</th>\n",
       "      <td>5.0</td>\n",
       "      <td>3.6</td>\n",
       "      <td>1.4</td>\n",
       "      <td>0.2</td>\n",
       "      <td>Iris-setosa</td>\n",
       "      <td>sepal_length is less than 5</td>\n",
       "      <td>18.00</td>\n",
       "      <td>NaN</td>\n",
       "    </tr>\n",
       "    <tr>\n",
       "      <th>5</th>\n",
       "      <td>5.4</td>\n",
       "      <td>3.9</td>\n",
       "      <td>1.7</td>\n",
       "      <td>0.4</td>\n",
       "      <td>Iris-setosa</td>\n",
       "      <td>sepal_length is greater than 5</td>\n",
       "      <td>21.06</td>\n",
       "      <td>NaN</td>\n",
       "    </tr>\n",
       "  </tbody>\n",
       "</table>\n",
       "</div>"
      ],
      "text/plain": [
       "   sepal_length  sepal_width  petal_length  petal_width        class  \\\n",
       "0           5.1          3.5           1.4          0.2  Iris-setosa   \n",
       "2           4.7          3.2           1.3          0.2  Iris-setosa   \n",
       "3           4.6          3.1           1.5          0.2  Iris-setosa   \n",
       "4           5.0          3.6           1.4          0.2  Iris-setosa   \n",
       "5           5.4          3.9           1.7          0.4  Iris-setosa   \n",
       "\n",
       "                  New column Name  sepal_length * sepal_width  \\\n",
       "0  sepal_length is greater than 5                       17.85   \n",
       "2     sepal_length is less than 5                       15.04   \n",
       "3     sepal_length is less than 5                       14.26   \n",
       "4     sepal_length is less than 5                       18.00   \n",
       "5  sepal_length is greater than 5                       21.06   \n",
       "\n",
       "   5.1 to 0 in sepal_length  \n",
       "0                       0.0  \n",
       "2                       NaN  \n",
       "3                       NaN  \n",
       "4                       NaN  \n",
       "5                       NaN  "
      ]
     },
     "execution_count": 8,
     "metadata": {},
     "output_type": "execute_result"
    }
   ],
   "source": [
    "df.drop('5.1 to 0 to be dropped',inplace=True,axis=1)\n",
    "df.drop(1,inplace=True,axis=0)\n",
    "df.head()"
   ]
  },
  {
   "cell_type": "markdown",
   "metadata": {},
   "source": [
    "### Group By"
   ]
  },
  {
   "cell_type": "code",
   "execution_count": 9,
   "metadata": {},
   "outputs": [
    {
     "data": {
      "text/html": [
       "<div>\n",
       "<style scoped>\n",
       "    .dataframe tbody tr th:only-of-type {\n",
       "        vertical-align: middle;\n",
       "    }\n",
       "\n",
       "    .dataframe tbody tr th {\n",
       "        vertical-align: top;\n",
       "    }\n",
       "\n",
       "    .dataframe thead th {\n",
       "        text-align: right;\n",
       "    }\n",
       "</style>\n",
       "<table border=\"1\" class=\"dataframe\">\n",
       "  <thead>\n",
       "    <tr style=\"text-align: right;\">\n",
       "      <th></th>\n",
       "      <th>sepal_length</th>\n",
       "      <th>sepal_width</th>\n",
       "      <th>petal_length</th>\n",
       "      <th>petal_width</th>\n",
       "      <th>class</th>\n",
       "      <th>New column Name</th>\n",
       "      <th>sepal_length * sepal_width</th>\n",
       "      <th>5.1 to 0 in sepal_length</th>\n",
       "    </tr>\n",
       "  </thead>\n",
       "  <tbody>\n",
       "    <tr>\n",
       "      <th>0</th>\n",
       "      <td>5.1</td>\n",
       "      <td>3.5</td>\n",
       "      <td>1.4</td>\n",
       "      <td>0.2</td>\n",
       "      <td>Iris-setosa</td>\n",
       "      <td>sepal_length is greater than 5</td>\n",
       "      <td>17.85</td>\n",
       "      <td>0.0</td>\n",
       "    </tr>\n",
       "    <tr>\n",
       "      <th>2</th>\n",
       "      <td>4.7</td>\n",
       "      <td>3.2</td>\n",
       "      <td>1.3</td>\n",
       "      <td>0.2</td>\n",
       "      <td>Iris-setosa</td>\n",
       "      <td>sepal_length is less than 5</td>\n",
       "      <td>15.04</td>\n",
       "      <td>NaN</td>\n",
       "    </tr>\n",
       "    <tr>\n",
       "      <th>3</th>\n",
       "      <td>4.6</td>\n",
       "      <td>3.1</td>\n",
       "      <td>1.5</td>\n",
       "      <td>0.2</td>\n",
       "      <td>Iris-setosa</td>\n",
       "      <td>sepal_length is less than 5</td>\n",
       "      <td>14.26</td>\n",
       "      <td>NaN</td>\n",
       "    </tr>\n",
       "    <tr>\n",
       "      <th>4</th>\n",
       "      <td>5.0</td>\n",
       "      <td>3.6</td>\n",
       "      <td>1.4</td>\n",
       "      <td>0.2</td>\n",
       "      <td>Iris-setosa</td>\n",
       "      <td>sepal_length is less than 5</td>\n",
       "      <td>18.00</td>\n",
       "      <td>NaN</td>\n",
       "    </tr>\n",
       "    <tr>\n",
       "      <th>5</th>\n",
       "      <td>5.4</td>\n",
       "      <td>3.9</td>\n",
       "      <td>1.7</td>\n",
       "      <td>0.4</td>\n",
       "      <td>Iris-setosa</td>\n",
       "      <td>sepal_length is greater than 5</td>\n",
       "      <td>21.06</td>\n",
       "      <td>NaN</td>\n",
       "    </tr>\n",
       "  </tbody>\n",
       "</table>\n",
       "</div>"
      ],
      "text/plain": [
       "   sepal_length  sepal_width  petal_length  petal_width        class  \\\n",
       "0           5.1          3.5           1.4          0.2  Iris-setosa   \n",
       "2           4.7          3.2           1.3          0.2  Iris-setosa   \n",
       "3           4.6          3.1           1.5          0.2  Iris-setosa   \n",
       "4           5.0          3.6           1.4          0.2  Iris-setosa   \n",
       "5           5.4          3.9           1.7          0.4  Iris-setosa   \n",
       "\n",
       "                  New column Name  sepal_length * sepal_width  \\\n",
       "0  sepal_length is greater than 5                       17.85   \n",
       "2     sepal_length is less than 5                       15.04   \n",
       "3     sepal_length is less than 5                       14.26   \n",
       "4     sepal_length is less than 5                       18.00   \n",
       "5  sepal_length is greater than 5                       21.06   \n",
       "\n",
       "   5.1 to 0 in sepal_length  \n",
       "0                       0.0  \n",
       "2                       NaN  \n",
       "3                       NaN  \n",
       "4                       NaN  \n",
       "5                       NaN  "
      ]
     },
     "execution_count": 9,
     "metadata": {},
     "output_type": "execute_result"
    }
   ],
   "source": [
    "df_group1= df.groupby('class')\n",
    "df_group2= df.groupby(['class','New column Name'])  #Multiple columns groupby\n",
    "df_group2.describe()"
   ]
  },
  {
   "cell_type": "markdown",
   "metadata": {},
   "source": [
    "#### Can use other methods also like count,nunique,mean...based on type of values"
   ]
  },
  {
   "cell_type": "code",
   "execution_count": null,
   "metadata": {},
   "outputs": [],
   "source": [
    "df_group1['New column Name'].value_counts()    \n",
    "df_group1['New column Name'].value_counts()['Iris-setosa']['sepal_length is less than 5']"
   ]
  },
  {
   "cell_type": "markdown",
   "metadata": {},
   "source": [
    "#### Group values and index of these values"
   ]
  },
  {
   "cell_type": "code",
   "execution_count": null,
   "metadata": {},
   "outputs": [],
   "source": [
    "df_group1.groups  "
   ]
  },
  {
   "cell_type": "markdown",
   "metadata": {},
   "source": [
    "#### To see the roes in a single group"
   ]
  },
  {
   "cell_type": "code",
   "execution_count": null,
   "metadata": {},
   "outputs": [],
   "source": [
    "df_group1.get_group('Iris-setosa').head() "
   ]
  },
  {
   "cell_type": "markdown",
   "metadata": {},
   "source": [
    "### Finding and Handling missing data"
   ]
  },
  {
   "cell_type": "code",
   "execution_count": 10,
   "metadata": {},
   "outputs": [
    {
     "data": {
      "text/html": [
       "<div>\n",
       "<style scoped>\n",
       "    .dataframe tbody tr th:only-of-type {\n",
       "        vertical-align: middle;\n",
       "    }\n",
       "\n",
       "    .dataframe tbody tr th {\n",
       "        vertical-align: top;\n",
       "    }\n",
       "\n",
       "    .dataframe thead th {\n",
       "        text-align: right;\n",
       "    }\n",
       "</style>\n",
       "<table border=\"1\" class=\"dataframe\">\n",
       "  <thead>\n",
       "    <tr style=\"text-align: right;\">\n",
       "      <th></th>\n",
       "      <th>sepal_length</th>\n",
       "      <th>sepal_width</th>\n",
       "      <th>petal_length</th>\n",
       "      <th>petal_width</th>\n",
       "      <th>class</th>\n",
       "      <th>New column Name</th>\n",
       "      <th>sepal_length * sepal_width</th>\n",
       "      <th>5.1 to 0 in sepal_length</th>\n",
       "      <th>petal_length_modified</th>\n",
       "    </tr>\n",
       "  </thead>\n",
       "  <tbody>\n",
       "    <tr>\n",
       "      <th>0</th>\n",
       "      <td>5.1</td>\n",
       "      <td>3.5</td>\n",
       "      <td>1.4</td>\n",
       "      <td>0.2</td>\n",
       "      <td>Iris-setosa</td>\n",
       "      <td>sepal_length is greater than 5</td>\n",
       "      <td>17.85</td>\n",
       "      <td>0.0</td>\n",
       "      <td>1.0</td>\n",
       "    </tr>\n",
       "    <tr>\n",
       "      <th>2</th>\n",
       "      <td>4.7</td>\n",
       "      <td>3.2</td>\n",
       "      <td>1.3</td>\n",
       "      <td>0.2</td>\n",
       "      <td>Iris-setosa</td>\n",
       "      <td>sepal_length is less than 5</td>\n",
       "      <td>15.04</td>\n",
       "      <td>NaN</td>\n",
       "      <td>1.0</td>\n",
       "    </tr>\n",
       "    <tr>\n",
       "      <th>3</th>\n",
       "      <td>4.6</td>\n",
       "      <td>3.1</td>\n",
       "      <td>1.5</td>\n",
       "      <td>0.2</td>\n",
       "      <td>Iris-setosa</td>\n",
       "      <td>sepal_length is less than 5</td>\n",
       "      <td>14.26</td>\n",
       "      <td>NaN</td>\n",
       "      <td>1.0</td>\n",
       "    </tr>\n",
       "    <tr>\n",
       "      <th>4</th>\n",
       "      <td>5.0</td>\n",
       "      <td>3.6</td>\n",
       "      <td>1.4</td>\n",
       "      <td>0.2</td>\n",
       "      <td>Iris-setosa</td>\n",
       "      <td>sepal_length is less than 5</td>\n",
       "      <td>18.00</td>\n",
       "      <td>NaN</td>\n",
       "      <td>1.0</td>\n",
       "    </tr>\n",
       "    <tr>\n",
       "      <th>5</th>\n",
       "      <td>5.4</td>\n",
       "      <td>3.9</td>\n",
       "      <td>1.7</td>\n",
       "      <td>0.4</td>\n",
       "      <td>Iris-setosa</td>\n",
       "      <td>sepal_length is greater than 5</td>\n",
       "      <td>21.06</td>\n",
       "      <td>NaN</td>\n",
       "      <td>1.0</td>\n",
       "    </tr>\n",
       "    <tr>\n",
       "      <th>6</th>\n",
       "      <td>4.6</td>\n",
       "      <td>3.4</td>\n",
       "      <td>1.4</td>\n",
       "      <td>0.3</td>\n",
       "      <td>Iris-setosa</td>\n",
       "      <td>sepal_length is less than 5</td>\n",
       "      <td>15.64</td>\n",
       "      <td>NaN</td>\n",
       "      <td>1.0</td>\n",
       "    </tr>\n",
       "    <tr>\n",
       "      <th>7</th>\n",
       "      <td>5.0</td>\n",
       "      <td>3.4</td>\n",
       "      <td>1.5</td>\n",
       "      <td>0.2</td>\n",
       "      <td>Iris-setosa</td>\n",
       "      <td>sepal_length is less than 5</td>\n",
       "      <td>17.00</td>\n",
       "      <td>NaN</td>\n",
       "      <td>1.0</td>\n",
       "    </tr>\n",
       "    <tr>\n",
       "      <th>8</th>\n",
       "      <td>4.4</td>\n",
       "      <td>2.9</td>\n",
       "      <td>1.4</td>\n",
       "      <td>0.2</td>\n",
       "      <td>Iris-setosa</td>\n",
       "      <td>sepal_length is less than 5</td>\n",
       "      <td>12.76</td>\n",
       "      <td>NaN</td>\n",
       "      <td>1.0</td>\n",
       "    </tr>\n",
       "    <tr>\n",
       "      <th>9</th>\n",
       "      <td>4.9</td>\n",
       "      <td>3.1</td>\n",
       "      <td>1.5</td>\n",
       "      <td>0.1</td>\n",
       "      <td>Iris-setosa</td>\n",
       "      <td>sepal_length is less than 5</td>\n",
       "      <td>15.19</td>\n",
       "      <td>NaN</td>\n",
       "      <td>1.0</td>\n",
       "    </tr>\n",
       "    <tr>\n",
       "      <th>10</th>\n",
       "      <td>5.4</td>\n",
       "      <td>3.7</td>\n",
       "      <td>1.5</td>\n",
       "      <td>0.2</td>\n",
       "      <td>Iris-setosa</td>\n",
       "      <td>sepal_length is greater than 5</td>\n",
       "      <td>19.98</td>\n",
       "      <td>NaN</td>\n",
       "      <td>1.0</td>\n",
       "    </tr>\n",
       "  </tbody>\n",
       "</table>\n",
       "</div>"
      ],
      "text/plain": [
       "    sepal_length  sepal_width  petal_length  petal_width        class  \\\n",
       "0            5.1          3.5           1.4          0.2  Iris-setosa   \n",
       "2            4.7          3.2           1.3          0.2  Iris-setosa   \n",
       "3            4.6          3.1           1.5          0.2  Iris-setosa   \n",
       "4            5.0          3.6           1.4          0.2  Iris-setosa   \n",
       "5            5.4          3.9           1.7          0.4  Iris-setosa   \n",
       "6            4.6          3.4           1.4          0.3  Iris-setosa   \n",
       "7            5.0          3.4           1.5          0.2  Iris-setosa   \n",
       "8            4.4          2.9           1.4          0.2  Iris-setosa   \n",
       "9            4.9          3.1           1.5          0.1  Iris-setosa   \n",
       "10           5.4          3.7           1.5          0.2  Iris-setosa   \n",
       "\n",
       "                   New column Name  sepal_length * sepal_width  \\\n",
       "0   sepal_length is greater than 5                       17.85   \n",
       "2      sepal_length is less than 5                       15.04   \n",
       "3      sepal_length is less than 5                       14.26   \n",
       "4      sepal_length is less than 5                       18.00   \n",
       "5   sepal_length is greater than 5                       21.06   \n",
       "6      sepal_length is less than 5                       15.64   \n",
       "7      sepal_length is less than 5                       17.00   \n",
       "8      sepal_length is less than 5                       12.76   \n",
       "9      sepal_length is less than 5                       15.19   \n",
       "10  sepal_length is greater than 5                       19.98   \n",
       "\n",
       "    5.1 to 0 in sepal_length  petal_length_modified  \n",
       "0                        0.0                    1.0  \n",
       "2                        NaN                    1.0  \n",
       "3                        NaN                    1.0  \n",
       "4                        NaN                    1.0  \n",
       "5                        NaN                    1.0  \n",
       "6                        NaN                    1.0  \n",
       "7                        NaN                    1.0  \n",
       "8                        NaN                    1.0  \n",
       "9                        NaN                    1.0  \n",
       "10                       NaN                    1.0  "
      ]
     },
     "execution_count": 10,
     "metadata": {},
     "output_type": "execute_result"
    }
   ],
   "source": [
    "df.loc[pd.isnull(df).any(1), :].index.values   #Find 1\n",
    "\n",
    "pd.isnull(df).any()                           #Find 2\n",
    "\n",
    "imputer = SimpleImputer(missing_values =np.nan , strategy ='mean' )   #Replace 1\n",
    "imputed_data=imputer.fit_transform(df[['petal_length']])\n",
    "df['petal_length_modified']=pd.DataFrame(imputed_data).astype(int)\n",
    "\n",
    "petal_mean=np.mean(df['petal_length'])                                  #Replace 2\n",
    "df['petal_length'] = df['petal_length'].apply(lambda x : petal_mean if x == 'NaN' )"
   ]
  },
  {
   "cell_type": "markdown",
   "metadata": {},
   "source": [
    "### Dropping NaN values in rows and columns"
   ]
  },
  {
   "cell_type": "code",
   "execution_count": null,
   "metadata": {},
   "outputs": [],
   "source": [
    "'''df.dropna(axis = 0,inplace=True,how='any'/'all')\n",
    "df.dropna(axis = 1,inplace=True,how='any'/'all')\n",
    "df.fillna(value)\n",
    "'''"
   ]
  },
  {
   "cell_type": "markdown",
   "metadata": {},
   "source": [
    "### Index of object in data"
   ]
  },
  {
   "cell_type": "code",
   "execution_count": 15,
   "metadata": {},
   "outputs": [
    {
     "data": {
      "text/html": [
       "<div>\n",
       "<style scoped>\n",
       "    .dataframe tbody tr th:only-of-type {\n",
       "        vertical-align: middle;\n",
       "    }\n",
       "\n",
       "    .dataframe tbody tr th {\n",
       "        vertical-align: top;\n",
       "    }\n",
       "\n",
       "    .dataframe thead th {\n",
       "        text-align: right;\n",
       "    }\n",
       "</style>\n",
       "<table border=\"1\" class=\"dataframe\">\n",
       "  <thead>\n",
       "    <tr style=\"text-align: right;\">\n",
       "      <th></th>\n",
       "      <th>class</th>\n",
       "      <th>New column Name</th>\n",
       "    </tr>\n",
       "  </thead>\n",
       "  <tbody>\n",
       "    <tr>\n",
       "      <th>count</th>\n",
       "      <td>149</td>\n",
       "      <td>149</td>\n",
       "    </tr>\n",
       "    <tr>\n",
       "      <th>unique</th>\n",
       "      <td>3</td>\n",
       "      <td>2</td>\n",
       "    </tr>\n",
       "    <tr>\n",
       "      <th>top</th>\n",
       "      <td>Iris-virginica</td>\n",
       "      <td>sepal_length is greater than 5</td>\n",
       "    </tr>\n",
       "    <tr>\n",
       "      <th>freq</th>\n",
       "      <td>50</td>\n",
       "      <td>118</td>\n",
       "    </tr>\n",
       "  </tbody>\n",
       "</table>\n",
       "</div>"
      ],
      "text/plain": [
       "                 class                 New column Name\n",
       "count              149                             149\n",
       "unique               3                               2\n",
       "top     Iris-virginica  sepal_length is greater than 5\n",
       "freq                50                             118"
      ]
     },
     "execution_count": 15,
     "metadata": {},
     "output_type": "execute_result"
    }
   ],
   "source": [
    "object_type_columns = df.dtypes[df.dtypes == \"object\"].index\n",
    "df[object_type_columns].describe()"
   ]
  },
  {
   "cell_type": "markdown",
   "metadata": {},
   "source": [
    "### For categorical variables"
   ]
  },
  {
   "cell_type": "code",
   "execution_count": null,
   "metadata": {},
   "outputs": [],
   "source": [
    "df.apply(LabelEncoder().fit_transform)\n",
    "pd.get_dummies(df)"
   ]
  },
  {
   "cell_type": "markdown",
   "metadata": {},
   "source": [
    "### Convert Strings to DateTime"
   ]
  },
  {
   "cell_type": "code",
   "execution_count": 19,
   "metadata": {},
   "outputs": [
    {
     "data": {
      "text/plain": [
       "'df[\"date\"] = pd.to_datetime(df[\"date\"])\\nprint(df)\\nprint(df.dtypes)'"
      ]
     },
     "execution_count": 19,
     "metadata": {},
     "output_type": "execute_result"
    }
   ],
   "source": [
    "'''df[\"date\"] = pd.to_datetime(df[\"date\"])\n",
    "print(df)\n",
    "print(df.dtypes)'''"
   ]
  },
  {
   "cell_type": "markdown",
   "metadata": {},
   "source": [
    "### Date in specific format"
   ]
  },
  {
   "cell_type": "code",
   "execution_count": null,
   "metadata": {},
   "outputs": [],
   "source": [
    "#df['datetime']=df['datetime'].apply(lambda x:datetime.datetime.strptime(x,'%m/%d/%Y %H:%M'))"
   ]
  },
  {
   "cell_type": "markdown",
   "metadata": {},
   "source": [
    "### Merging dfs "
   ]
  },
  {
   "cell_type": "code",
   "execution_count": null,
   "metadata": {},
   "outputs": [],
   "source": [
    "#df=pd.concat([df1, df2], axis = 1)       #concat using rows then axis=0\n",
    "#df=pd.merge(df1,df2,how=what join,on='clm name')\n",
    "#df1.join(df2,how=what join)"
   ]
  },
  {
   "cell_type": "markdown",
   "metadata": {},
   "source": [
    "### Copying one df to other"
   ]
  },
  {
   "cell_type": "code",
   "execution_count": null,
   "metadata": {},
   "outputs": [],
   "source": [
    "#raw_data=train.copy()"
   ]
  },
  {
   "cell_type": "markdown",
   "metadata": {},
   "source": [
    "### Finding Outliers"
   ]
  },
  {
   "cell_type": "code",
   "execution_count": 6,
   "metadata": {},
   "outputs": [
    {
     "name": "stdout",
     "output_type": "stream",
     "text": [
      "sepal_length\n",
      "3.3591349493997456\n",
      "8.327531717266924\n",
      "[]\n",
      "----------------------------------------\n",
      "sepal_width\n",
      "1.7532170659134796\n",
      "4.354782934086522\n",
      "[4.4]\n",
      "----------------------------------------\n",
      "petal_length\n",
      "-1.534594593190116\n",
      "9.051927926523454\n",
      "[]\n",
      "----------------------------------------\n",
      "petal_width\n",
      "-1.090815558435857\n",
      "3.4881488917691916\n",
      "[]\n",
      "----------------------------------------\n"
     ]
    }
   ],
   "source": [
    "def find_outliers(data,column_name):\n",
    "    # Set upper and lower limit to 3 standard deviation\n",
    "    data_std = data[column_name].std()\n",
    "    data_mean = np.mean(data[column_name])\n",
    "    outliers_cut_off = data_std * 3\n",
    "    \n",
    "    lower_limit  = data_mean - outliers_cut_off \n",
    "    upper_limit = data_mean + outliers_cut_off\n",
    "    print(column_name)\n",
    "    print(lower_limit)\n",
    "    print(upper_limit)\n",
    "    \n",
    "    # Generate outliers\n",
    "    outliers=[]\n",
    "    index_outliers=[]\n",
    "    for outlier in data[column_name]:\n",
    "        if outlier > upper_limit or outlier < lower_limit:\n",
    "            outliers.append(outlier)\n",
    "    \n",
    "    print(outliers)\n",
    "    print('----------------------------------------')\n",
    "\n",
    "    \n",
    "    \n",
    "column=['sepal_length','sepal_width','petal_length','petal_width']\n",
    "for clm in column:\n",
    "    find_outliers(df,clm)"
   ]
  },
  {
   "cell_type": "markdown",
   "metadata": {},
   "source": [
    "### Replacing Outliers"
   ]
  },
  {
   "cell_type": "code",
   "execution_count": null,
   "metadata": {},
   "outputs": [],
   "source": [
    "sepal_width_mean=np.mean(df['sepal_width'])\n",
    "sepal_width_std = df['sepal_width'].std()\n",
    "outliers_cut_off=sepal_width_std * 3\n",
    "lower_limit  = sepal_width_mean - outliers_cut_off \n",
    "upper_limit = sepal_width_mean + outliers_cut_off\n",
    "\n",
    "df['sepal_width'] = df['sepal_width'].apply(lambda x : sepal_width_mean if x >= upper_limit or x < lower_limit else x )"
   ]
  },
  {
   "cell_type": "markdown",
   "metadata": {},
   "source": [
    "### MISC"
   ]
  },
  {
   "cell_type": "markdown",
   "metadata": {},
   "source": [
    "#### Gives unique values in a column"
   ]
  },
  {
   "cell_type": "code",
   "execution_count": 8,
   "metadata": {},
   "outputs": [
    {
     "data": {
      "text/plain": [
       "array(['Iris-setosa', 'Iris-versicolor', 'Iris-virginica'], dtype=object)"
      ]
     },
     "execution_count": 8,
     "metadata": {},
     "output_type": "execute_result"
    }
   ],
   "source": [
    "df['class'].unique() "
   ]
  },
  {
   "cell_type": "markdown",
   "metadata": {},
   "source": [
    "#### Gives number of unique values"
   ]
  },
  {
   "cell_type": "code",
   "execution_count": 9,
   "metadata": {},
   "outputs": [
    {
     "data": {
      "text/plain": [
       "3"
      ]
     },
     "execution_count": 9,
     "metadata": {},
     "output_type": "execute_result"
    }
   ],
   "source": [
    "df['class'].nunique()"
   ]
  },
  {
   "cell_type": "markdown",
   "metadata": {},
   "source": [
    "#### Gives count of unique values"
   ]
  },
  {
   "cell_type": "code",
   "execution_count": 10,
   "metadata": {},
   "outputs": [
    {
     "data": {
      "text/plain": [
       "Iris-setosa        50\n",
       "Iris-versicolor    50\n",
       "Iris-virginica     50\n",
       "Name: class, dtype: int64"
      ]
     },
     "execution_count": 10,
     "metadata": {},
     "output_type": "execute_result"
    }
   ],
   "source": [
    "df['class'].value_counts()"
   ]
  },
  {
   "cell_type": "markdown",
   "metadata": {},
   "source": [
    "#### Sort"
   ]
  },
  {
   "cell_type": "code",
   "execution_count": null,
   "metadata": {},
   "outputs": [],
   "source": [
    "#df.sort_values(by= 'Name or list of names to sort by', axis=, ascending=True, inplace=True)       "
   ]
  },
  {
   "cell_type": "markdown",
   "metadata": {},
   "source": [
    "#### Pivot Table"
   ]
  },
  {
   "cell_type": "code",
   "execution_count": null,
   "metadata": {},
   "outputs": [],
   "source": [
    "'''df.pivot_table()\n",
    "\n",
    "Parameters\n",
    "----------\n",
    "values : column to aggregate, optional\n",
    "index : column, Grouper, array, or list of the previous\n",
    "    If an array is passed, it must be the same length as the data. The\n",
    "    list can contain any of the other types (except list).\n",
    "    Keys to group by on the pivot table index.  If an array is passed,\n",
    "    it is being used as the same manner as column values.\n",
    "columns : column, Grouper, array, or list of the previous\n",
    "    If an array is passed, it must be the same length as the data. The\n",
    "    list can contain any of the other types (except list).\n",
    "    Keys to group by on the pivot table column.  If an array is passed,\n",
    "    it is being used as the same manner as column values.\n",
    "aggfunc : function, list of functions, dict, default numpy.mean\n",
    "    If list of functions passed, the resulting pivot table will have\n",
    "    hierarchical columns whose top level are the function names\n",
    "    (inferred from the function objects themselves)\n",
    "    If dict is passed, the key is column to aggregate and value\n",
    "    is function or list of functions\n",
    "fill_value : scalar, default None\n",
    "    Value to replace missing values with\n",
    "margins : boolean, default False\n",
    "    Add all row / columns (e.g. for subtotal / grand totals)\n",
    "dropna : boolean, default True\n",
    "    Do not include columns whose entries are all NaN\n",
    "margins_name : string, default 'All'\n",
    "    Name of the row / column that will contain the totals\n",
    "    when margins is True.\n",
    "\n",
    "Returns\n",
    "-------\n",
    "table : DataFrame'''"
   ]
  },
  {
   "cell_type": "markdown",
   "metadata": {},
   "source": [
    "#### Renaming columns"
   ]
  },
  {
   "cell_type": "code",
   "execution_count": null,
   "metadata": {},
   "outputs": [],
   "source": [
    "#df=df.rename(columns={'old name':'new name'})"
   ]
  },
  {
   "cell_type": "markdown",
   "metadata": {},
   "source": [
    "#### Replacing values in a df"
   ]
  },
  {
   "cell_type": "code",
   "execution_count": null,
   "metadata": {},
   "outputs": [],
   "source": [
    "#df['clm  name'] = df['clm name'].replace({old value:new value})"
   ]
  },
  {
   "cell_type": "markdown",
   "metadata": {},
   "source": [
    "#### Duplicates"
   ]
  },
  {
   "cell_type": "code",
   "execution_count": null,
   "metadata": {},
   "outputs": [],
   "source": [
    "#df.drop_duplicates('clm name')"
   ]
  },
  {
   "cell_type": "markdown",
   "metadata": {},
   "source": [
    "#### Number of rows, columns and names in df"
   ]
  },
  {
   "cell_type": "code",
   "execution_count": 18,
   "metadata": {},
   "outputs": [
    {
     "data": {
      "text/plain": [
       "(150, 5)"
      ]
     },
     "execution_count": 18,
     "metadata": {},
     "output_type": "execute_result"
    }
   ],
   "source": [
    "df.ndim      #Number of dimensions\n",
    "df.axes      #List of row names\n",
    "df.shape     #Number of rows and columns  "
   ]
  },
  {
   "cell_type": "markdown",
   "metadata": {},
   "source": [
    "### Working with files"
   ]
  },
  {
   "cell_type": "code",
   "execution_count": null,
   "metadata": {},
   "outputs": [],
   "source": [
    "# fileObj=open('testcase.txt')\n",
    "# test_cases=[ elem for elem in test_cases if elem  != ''] \n",
    "# whole_test_list=fileObj.read().split('\\n')\n",
    "# file_Obj.close()"
   ]
  },
  {
   "cell_type": "code",
   "execution_count": null,
   "metadata": {},
   "outputs": [],
   "source": [
    "# file_Obj=open('C:\\\\Users\\\\ambat\\\\Desktop\\\\eNew foldr\\\\Jupyter\\\\'+complete_fileName,'w')\n",
    "# file_Obj.write('reqd text in str format')\n",
    "# file_Obj.close()"
   ]
  },
  {
   "cell_type": "markdown",
   "metadata": {},
   "source": [
    "### Working with CSV files"
   ]
  },
  {
   "cell_type": "code",
   "execution_count": null,
   "metadata": {},
   "outputs": [],
   "source": [
    "# with open(\"/code/output/output1.csv\", \"w\") as out1:\n",
    "#     writer = csv.writer(out1)\n",
    "#     writer.writerows(map(lambda x: [x], final_list1))\n",
    "# out1.close()"
   ]
  },
  {
   "cell_type": "code",
   "execution_count": null,
   "metadata": {},
   "outputs": [],
   "source": [
    "#result.to_csv('/code/output/output.csv', header=False, index=False)"
   ]
  },
  {
   "cell_type": "code",
   "execution_count": null,
   "metadata": {},
   "outputs": [],
   "source": []
  },
  {
   "cell_type": "code",
   "execution_count": null,
   "metadata": {},
   "outputs": [],
   "source": []
  },
  {
   "cell_type": "code",
   "execution_count": null,
   "metadata": {},
   "outputs": [],
   "source": []
  },
  {
   "cell_type": "code",
   "execution_count": null,
   "metadata": {},
   "outputs": [],
   "source": []
  },
  {
   "cell_type": "code",
   "execution_count": null,
   "metadata": {},
   "outputs": [],
   "source": [
    "# Best features (Univariate Selection)\n",
    "from sklearn.feature_selection import SelectKBest\n",
    "from sklearn.feature_selection import chi2\n",
    "\n",
    "X = data.iloc[:,0:20]  #independent columns\n",
    "y = data.iloc[:,-1]    #target column i.e price range\n",
    "\n",
    "#apply SelectKBest class to extract top 10 best features\n",
    "bestfeatures = SelectKBest(score_func=chi2, k=10)\n",
    "fit = bestfeatures.fit(X,y)\n",
    "dfscores = pd.DataFrame(fit.scores_)\n",
    "dfcolumns = pd.DataFrame(X.columns)\n",
    "#concat two dataframes for better visualization \n",
    "featureScores = pd.concat([dfcolumns,dfscores],axis=1)\n",
    "featureScores.columns = ['Specs','Score']  #naming the dataframe columns\n",
    "print(featureScores.nlargest(10,'Score')) #print 10 best features"
   ]
  }
 ],
 "metadata": {
  "kernelspec": {
   "display_name": "Python 3",
   "language": "python",
   "name": "python3"
  },
  "language_info": {
   "codemirror_mode": {
    "name": "ipython",
    "version": 3
   },
   "file_extension": ".py",
   "mimetype": "text/x-python",
   "name": "python",
   "nbconvert_exporter": "python",
   "pygments_lexer": "ipython3",
   "version": "3.7.1"
  }
 },
 "nbformat": 4,
 "nbformat_minor": 2
}
